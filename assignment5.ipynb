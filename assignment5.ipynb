{
 "cells": [
  {
   "cell_type": "code",
   "execution_count": 2,
   "id": "2d478e50",
   "metadata": {},
   "outputs": [
    {
     "data": {
      "text/plain": [
       "[((1, 'Arjun', 'HR'),),\n",
       " ((2, 'Ravi', 'Engineering'),),\n",
       " (3, 'Priya', 'Marketing')]"
      ]
     },
     "execution_count": 2,
     "metadata": {},
     "output_type": "execute_result"
    }
   ],
   "source": [
    "employee1 = (1, \"Arjun\", \"HR\"),\n",
    "employee2 = (2, \"Ravi\", \"Engineering\"),\n",
    "employee3 = (3, \"Priya\", \"Marketing\")\n",
    "\n",
    "employees = [employee1, employee2, employee3]\n",
    "employees"
   ]
  },
  {
   "cell_type": "code",
   "execution_count": 3,
   "id": "fcaafb5d",
   "metadata": {},
   "outputs": [
    {
     "data": {
      "text/plain": [
       "[((101, 'Laptop', 10),), ((102, 'Mouse', 50),), (103, 'Keyboard', 30)]"
      ]
     },
     "execution_count": 3,
     "metadata": {},
     "output_type": "execute_result"
    }
   ],
   "source": [
    "inventory1 = (101, \"Laptop\", 10),\n",
    "inventory2 = (102, \"Mouse\", 50),\n",
    "inventory3 = (103, \"Keyboard\", 30)\n",
    "inventory = [inventory1, inventory2, inventory3]\n",
    "inventory"
   ]
  },
  {
   "cell_type": "code",
   "execution_count": 5,
   "id": "5b564972",
   "metadata": {},
   "outputs": [
    {
     "data": {
      "text/plain": [
       "[('2024-08-16', '10:00 AM'),\n",
       " ('2024-08-17', '2:00 PM'),\n",
       " ('2024-08-18', '11:00 AM')]"
      ]
     },
     "execution_count": 5,
     "metadata": {},
     "output_type": "execute_result"
    }
   ],
   "source": [
    "event1 = (\"2024-08-16\", \"10:00 AM\")\n",
    "event2 = (\"2024-08-17\", \"2:00 PM\")\n",
    "event3 = (\"2024-08-18\", \"11:00 AM\")\n",
    "events = [event1, event2, event3]\n",
    "events"
   ]
  },
  {
   "cell_type": "code",
   "execution_count": 6,
   "id": "8cce8320",
   "metadata": {},
   "outputs": [
    {
     "data": {
      "text/plain": [
       "{'HR': {'ID1': 'Ali', 'ID2': 'Eve'},\n",
       " 'Engineering': {'ID3': 'Babar', 'ID4': 'David'},\n",
       " 'Marketing': {'ID5': 'Chand'}}"
      ]
     },
     "execution_count": 6,
     "metadata": {},
     "output_type": "execute_result"
    }
   ],
   "source": [
    "company = {\n",
    "    \"HR\": {\"ID1\": \"Ali\", \"ID2\": \"Eve\"},\n",
    "    \"Engineering\": {\"ID3\": \"Babar\", \"ID4\": \"David\"},\n",
    "    \"Marketing\": {\"ID5\": \"Chand\"}\n",
    "}\n",
    "company"
   ]
  },
  {
   "cell_type": "code",
   "execution_count": 8,
   "id": "e75ecf6a",
   "metadata": {},
   "outputs": [
    {
     "name": "stdout",
     "output_type": "stream",
     "text": [
      "90\n",
      "92\n"
     ]
    }
   ],
   "source": [
    "student_scores = [\n",
    "    {\"Math\": 85, \"Science\": 90, \"English\": 88},\n",
    "    {\"Math\": 78, \"Science\": 82, \"English\": 85},\n",
    "    {\"Math\": 92, \"Science\": 88, \"English\": 91}\n",
    "]\n",
    "print(student_scores[0][\"Science\"])\n",
    "print(student_scores[2][\"Math\"])"
   ]
  },
  {
   "cell_type": "code",
   "execution_count": 9,
   "id": "8cee1a86",
   "metadata": {},
   "outputs": [
    {
     "name": "stdout",
     "output_type": "stream",
     "text": [
      "Task 3\n",
      "Task 7\n"
     ]
    }
   ],
   "source": [
    "projects = {\n",
    "    \"Project A\": [\"Task 1\", \"Task 2\", \"Task 3\"],\n",
    "    \"Project B\": [\"Task 4\", \"Task 5\"],\n",
    "    \"Project C\": [\"Task 6\", \"Task 7\", \"Task 8\"]\n",
    "}\n",
    "print(projects[\"Project A\"][2])\n",
    "print(projects[ \"Project C\"][1])"
   ]
  },
  {
   "cell_type": "code",
   "execution_count": 10,
   "id": "a77ecda2",
   "metadata": {},
   "outputs": [
    {
     "name": "stdout",
     "output_type": "stream",
     "text": [
      "Data Types\n",
      "Machine Learning\n"
     ]
    }
   ],
   "source": [
    "courses = {\n",
    "    \"Python Basics\": {\n",
    "        \"Module 1\": \"Introduction\",\n",
    "        \"Module 2\": \"Data Types\",\n",
    "        \"Module 3\": \"Control Flow\"\n",
    "    },\n",
    "    \"Data Science\": {\n",
    "        \"Module 1\": \"Introduction to Data Science\",\n",
    "        \"Module 2\": \"Data Analysis with Pandas\",\n",
    "        \"Module 3\": \"Machine Learning\"\n",
    "    }\n",
    "}\n",
    "print(courses[\"Python Basics\"][\"Module 2\"])\n",
    "print(courses[\"Data Science\"][\"Module 3\"])\n"
   ]
  },
  {
   "cell_type": "code",
   "execution_count": 13,
   "id": "5bd4240f",
   "metadata": {},
   "outputs": [
    {
     "name": "stdout",
     "output_type": "stream",
     "text": [
      "Products below the threshold: ['Mouse', 'Keyboard']\n"
     ]
    }
   ],
   "source": [
    "products = [(\"Laptop\", 800), (\"Mouse\", 20), (\"Keyboard\", 50), (\"Monitor\", 150)]\n",
    "threshold = 100\n",
    "\n",
    "affordable_products = []\n",
    "\n",
    "for name, price in products:\n",
    "    if price < threshold:\n",
    "        affordable_products.append(name)\n",
    "\n",
    "print(\"Products below the threshold:\", affordable_products)\n"
   ]
  },
  {
   "cell_type": "code",
   "execution_count": null,
   "id": "6f5d0f2e",
   "metadata": {},
   "outputs": [],
   "source": []
  }
 ],
 "metadata": {
  "kernelspec": {
   "display_name": "Python 3 (ipykernel)",
   "language": "python",
   "name": "python3"
  },
  "language_info": {
   "codemirror_mode": {
    "name": "ipython",
    "version": 3
   },
   "file_extension": ".py",
   "mimetype": "text/x-python",
   "name": "python",
   "nbconvert_exporter": "python",
   "pygments_lexer": "ipython3",
   "version": "3.9.13"
  }
 },
 "nbformat": 4,
 "nbformat_minor": 5
}
